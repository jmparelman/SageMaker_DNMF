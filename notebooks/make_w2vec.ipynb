{
 "cells": [
  {
   "cell_type": "code",
   "execution_count": 1,
   "id": "12010a68",
   "metadata": {},
   "outputs": [
    {
     "name": "stdout",
     "output_type": "stream",
     "text": [
      "Collecting gensim\n",
      "  Downloading gensim-4.0.1-cp36-cp36m-manylinux1_x86_64.whl (23.9 MB)\n",
      "\u001b[K     |████████████████████████████████| 23.9 MB 20.8 MB/s eta 0:00:01\n",
      "\u001b[?25hRequirement already satisfied: scipy>=0.18.1 in /home/ec2-user/anaconda3/envs/python3/lib/python3.6/site-packages (from gensim) (1.5.3)\n",
      "Requirement already satisfied: numpy>=1.11.3 in /home/ec2-user/anaconda3/envs/python3/lib/python3.6/site-packages (from gensim) (1.19.5)\n",
      "Requirement already satisfied: dataclasses in /home/ec2-user/anaconda3/envs/python3/lib/python3.6/site-packages (from gensim) (0.8)\n",
      "Collecting smart-open>=1.8.1\n",
      "  Downloading smart_open-5.0.0-py3-none-any.whl (56 kB)\n",
      "\u001b[K     |████████████████████████████████| 56 kB 549 kB/s  eta 0:00:01\n",
      "\u001b[?25hInstalling collected packages: smart-open, gensim\n",
      "Successfully installed gensim-4.0.1 smart-open-5.0.0\n",
      "Note: you may need to restart the kernel to use updated packages.\n"
     ]
    }
   ],
   "source": [
    "pip install gensim"
   ]
  },
  {
   "cell_type": "code",
   "execution_count": 2,
   "id": "6fde0f43",
   "metadata": {},
   "outputs": [
    {
     "name": "stderr",
     "output_type": "stream",
     "text": [
      "/home/ec2-user/anaconda3/envs/python3/lib/python3.6/site-packages/gensim/similarities/__init__.py:15: UserWarning: The gensim.similarities.levenshtein submodule is disabled, because the optional Levenshtein package <https://pypi.org/project/python-Levenshtein/> is unavailable. Install Levenhstein (e.g. `pip install python-Levenshtein`) to suppress this warning.\n",
      "  warnings.warn(msg)\n"
     ]
    }
   ],
   "source": [
    "import joblib, os\n",
    "from gensim.models import Word2Vec\n",
    "import pandas as pd\n",
    "import datetime\n",
    "\n",
    "import boto3\n",
    "from sagemaker import get_execution_role"
   ]
  },
  {
   "cell_type": "code",
   "execution_count": 3,
   "id": "4d651523",
   "metadata": {},
   "outputs": [
    {
     "data": {
      "text/plain": [
       "['JMP_congressional_nmf/latest_dtms/097.csv',\n",
       " 'JMP_congressional_nmf/latest_dtms/098.csv',\n",
       " 'JMP_congressional_nmf/latest_dtms/099.csv',\n",
       " 'JMP_congressional_nmf/latest_dtms/100.csv',\n",
       " 'JMP_congressional_nmf/latest_dtms/101.csv',\n",
       " 'JMP_congressional_nmf/latest_dtms/102.csv',\n",
       " 'JMP_congressional_nmf/latest_dtms/103.csv',\n",
       " 'JMP_congressional_nmf/latest_dtms/104.csv',\n",
       " 'JMP_congressional_nmf/latest_dtms/105.csv',\n",
       " 'JMP_congressional_nmf/latest_dtms/106.csv',\n",
       " 'JMP_congressional_nmf/latest_dtms/107.csv',\n",
       " 'JMP_congressional_nmf/latest_dtms/108.csv',\n",
       " 'JMP_congressional_nmf/latest_dtms/109.csv',\n",
       " 'JMP_congressional_nmf/latest_dtms/110.csv',\n",
       " 'JMP_congressional_nmf/latest_dtms/111.csv',\n",
       " 'JMP_congressional_nmf/latest_dtms/112.csv',\n",
       " 'JMP_congressional_nmf/latest_dtms/113.csv',\n",
       " 'JMP_congressional_nmf/latest_dtms/114.csv']"
      ]
     },
     "execution_count": 3,
     "metadata": {},
     "output_type": "execute_result"
    }
   ],
   "source": [
    "role = get_execution_role()\n",
    "connection = boto3.client('s3')\n",
    "contents = connection.list_objects(Bucket='ascsagemaker',\n",
    "                                  Prefix=\"JMP_congressional_nmf/latest_dtms\")['Contents']\n",
    "\n",
    "chamber_csv = [f['Key'] for f in contents if f['Key'].endswith('.csv')]\n",
    "chamber_csv"
   ]
  },
  {
   "cell_type": "code",
   "execution_count": 5,
   "id": "1d553d9c",
   "metadata": {},
   "outputs": [
    {
     "name": "stdout",
     "output_type": "stream",
     "text": [
      "JMP_congressional_nmf/latest_dtms/097.csv\n",
      "JMP_congressional_nmf/latest_dtms/098.csv\n",
      "JMP_congressional_nmf/latest_dtms/099.csv\n",
      "JMP_congressional_nmf/latest_dtms/100.csv\n",
      "JMP_congressional_nmf/latest_dtms/101.csv\n",
      "JMP_congressional_nmf/latest_dtms/102.csv\n",
      "JMP_congressional_nmf/latest_dtms/103.csv\n",
      "JMP_congressional_nmf/latest_dtms/104.csv\n",
      "JMP_congressional_nmf/latest_dtms/105.csv\n",
      "JMP_congressional_nmf/latest_dtms/106.csv\n",
      "JMP_congressional_nmf/latest_dtms/107.csv\n",
      "JMP_congressional_nmf/latest_dtms/108.csv\n",
      "JMP_congressional_nmf/latest_dtms/109.csv\n",
      "JMP_congressional_nmf/latest_dtms/110.csv\n",
      "JMP_congressional_nmf/latest_dtms/111.csv\n",
      "JMP_congressional_nmf/latest_dtms/112.csv\n",
      "JMP_congressional_nmf/latest_dtms/113.csv\n",
      "JMP_congressional_nmf/latest_dtms/114.csv\n"
     ]
    }
   ],
   "source": [
    "all_speeches = []\n",
    "for f in chamber_csv:\n",
    "#     if f.endswith('102.csv'):\n",
    "    speeches = pd.read_csv(connection.get_object(Bucket='ascsagemaker',Key=f)['Body'])['speech_processed']\n",
    "#     speeches = [speech.split() for speech in speeches]\n",
    "    all_speeches.extend(speeches)\n",
    "    print(f)"
   ]
  },
  {
   "cell_type": "code",
   "execution_count": 7,
   "id": "4906ed4d",
   "metadata": {},
   "outputs": [
    {
     "name": "stdout",
     "output_type": "stream",
     "text": [
      "0 a\n",
      "1 b\n"
     ]
    }
   ],
   "source": [
    "for i,x in enumerate(['a','b']):\n",
    "    print(i,x)"
   ]
  },
  {
   "cell_type": "code",
   "execution_count": 11,
   "id": "47a769df",
   "metadata": {},
   "outputs": [],
   "source": [
    "if 12 % 100 == 0:\n",
    "    print('a')"
   ]
  },
  {
   "cell_type": "code",
   "execution_count": 12,
   "id": "20914564",
   "metadata": {},
   "outputs": [
    {
     "ename": "IndentationError",
     "evalue": "expected an indented block (<ipython-input-12-3c41feadbeee>, line 3)",
     "output_type": "error",
     "traceback": [
      "\u001b[0;36m  File \u001b[0;32m\"<ipython-input-12-3c41feadbeee>\"\u001b[0;36m, line \u001b[0;32m3\u001b[0m\n\u001b[0;31m    print(\"*\",end='')\u001b[0m\n\u001b[0m        ^\u001b[0m\n\u001b[0;31mIndentationError\u001b[0m\u001b[0;31m:\u001b[0m expected an indented block\n"
     ]
    }
   ],
   "source": [
    "def splitter(i,x):\n",
    "    if i % 100 == 0:\n",
    "        print(\"*\",end='')\n",
    "    return x.split()\n",
    "\n",
    "all_speeches = [splitter(i,x) for i,x in enumerate(all_speeches)]"
   ]
  },
  {
   "cell_type": "code",
   "execution_count": 2,
   "id": "3e723294",
   "metadata": {},
   "outputs": [
    {
     "ename": "NameError",
     "evalue": "name 'Word2Vec' is not defined",
     "output_type": "error",
     "traceback": [
      "\u001b[0;31m---------------------------------------------------------------------------\u001b[0m",
      "\u001b[0;31mNameError\u001b[0m                                 Traceback (most recent call last)",
      "\u001b[0;32m<ipython-input-2-2438f4ce1201>\u001b[0m in \u001b[0;36m<module>\u001b[0;34m\u001b[0m\n\u001b[0;32m----> 1\u001b[0;31m \u001b[0mmodel\u001b[0m \u001b[0;34m=\u001b[0m \u001b[0mWord2Vec\u001b[0m\u001b[0;34m(\u001b[0m\u001b[0mall_speeches\u001b[0m\u001b[0;34m,\u001b[0m\u001b[0mwindow\u001b[0m\u001b[0;34m=\u001b[0m\u001b[0;36m10\u001b[0m\u001b[0;34m,\u001b[0m\u001b[0msg\u001b[0m\u001b[0;34m=\u001b[0m\u001b[0;36m1\u001b[0m\u001b[0;34m,\u001b[0m\u001b[0mworkers\u001b[0m\u001b[0;34m=\u001b[0m\u001b[0;36m8\u001b[0m\u001b[0;34m)\u001b[0m\u001b[0;34m\u001b[0m\u001b[0;34m\u001b[0m\u001b[0m\n\u001b[0m\u001b[1;32m      2\u001b[0m \u001b[0mprint\u001b[0m\u001b[0;34m(\u001b[0m\u001b[0;34mf\"\\nmodel training time: {str(datetime.timedelta(seconds=model.total_train_time))}\"\u001b[0m\u001b[0;34m)\u001b[0m\u001b[0;34m\u001b[0m\u001b[0;34m\u001b[0m\u001b[0m\n",
      "\u001b[0;31mNameError\u001b[0m: name 'Word2Vec' is not defined"
     ]
    }
   ],
   "source": [
    "model = Word2Vec(all_speeches,window=10,sg=1,workers=8)\n",
    "print(f\"\\nmodel training time: {str(datetime.timedelta(seconds=model.total_train_time))}\")"
   ]
  },
  {
   "cell_type": "code",
   "execution_count": 7,
   "id": "dc306221",
   "metadata": {},
   "outputs": [],
   "source": [
    "model.save('word2vec-model_unigram.bin')"
   ]
  },
  {
   "cell_type": "code",
   "execution_count": 14,
   "id": "1bbb8190",
   "metadata": {},
   "outputs": [
    {
     "name": "stdout",
     "output_type": "stream",
     "text": [
      "\n",
      "model training time: 1:08:45.936644\n"
     ]
    }
   ],
   "source": [
    "print(f\"\\nmodel training time: {str(datetime.timedelta(seconds=model.total_train_time))}\")"
   ]
  },
  {
   "cell_type": "code",
   "execution_count": 47,
   "id": "ea0bbb60",
   "metadata": {},
   "outputs": [],
   "source": [
    "connection.upload_file('word2vec-model.bin', 'ascsagemaker', 'JMP_congressional_nmf/word2vec-first20/word2vec-first20.bin')\n",
    "connection.upload_file('word2vec-model.bin.syn1neg.npy', 'ascsagemaker', 'JMP_congressional_nmf/word2vec-first20/word2vec-model.bin.syn1neg.npy')\n",
    "connection.upload_file('word2vec-model.bin.wv.vectors.npy', 'ascsagemaker', 'JMP_congressional_nmf/word2vec-first20/word2vec-model.bin.wv.vectors.npy')"
   ]
  },
  {
   "cell_type": "code",
   "execution_count": 44,
   "id": "1ebbf4d6",
   "metadata": {},
   "outputs": [],
   "source": [
    "w2v = gensim.models.Word2Vec.load('word2vec-model.bin')"
   ]
  }
 ],
 "metadata": {
  "kernelspec": {
   "display_name": "conda_python3",
   "language": "python",
   "name": "conda_python3"
  },
  "language_info": {
   "codemirror_mode": {
    "name": "ipython",
    "version": 3
   },
   "file_extension": ".py",
   "mimetype": "text/x-python",
   "name": "python",
   "nbconvert_exporter": "python",
   "pygments_lexer": "ipython3",
   "version": "3.6.13"
  }
 },
 "nbformat": 4,
 "nbformat_minor": 5
}
