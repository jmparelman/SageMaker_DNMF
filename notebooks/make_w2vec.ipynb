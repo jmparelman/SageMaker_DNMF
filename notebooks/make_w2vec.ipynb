{
 "cells": [
  {
   "cell_type": "code",
   "execution_count": 2,
   "id": "73f90bb1",
   "metadata": {},
   "outputs": [
    {
     "name": "stderr",
     "output_type": "stream",
     "text": [
      "/home/ec2-user/anaconda3/envs/python3/lib/python3.6/site-packages/gensim/similarities/__init__.py:15: UserWarning: The gensim.similarities.levenshtein submodule is disabled, because the optional Levenshtein package <https://pypi.org/project/python-Levenshtein/> is unavailable. Install Levenhstein (e.g. `pip install python-Levenshtein`) to suppress this warning.\n",
      "  warnings.warn(msg)\n"
     ]
    }
   ],
   "source": [
    "import joblib, os\n",
    "from gensim.models import Word2Vec\n",
    "import pandas as pd\n",
    "import datetime\n",
    "\n",
    "import boto3\n",
    "from sagemaker import get_execution_role"
   ]
  },
  {
   "cell_type": "code",
   "execution_count": 3,
   "id": "ce827f3d",
   "metadata": {},
   "outputs": [
    {
     "data": {
      "text/plain": [
       "['JMP_congressional_nmf/dtms/097.csv',\n",
       " 'JMP_congressional_nmf/dtms/098.csv',\n",
       " 'JMP_congressional_nmf/dtms/099.csv',\n",
       " 'JMP_congressional_nmf/dtms/100.csv',\n",
       " 'JMP_congressional_nmf/dtms/101.csv',\n",
       " 'JMP_congressional_nmf/dtms/102.csv',\n",
       " 'JMP_congressional_nmf/dtms/103.csv',\n",
       " 'JMP_congressional_nmf/dtms/105.csv',\n",
       " 'JMP_congressional_nmf/dtms/106.csv',\n",
       " 'JMP_congressional_nmf/dtms/107.csv',\n",
       " 'JMP_congressional_nmf/dtms/108.csv',\n",
       " 'JMP_congressional_nmf/dtms/109.csv',\n",
       " 'JMP_congressional_nmf/dtms/110.csv',\n",
       " 'JMP_congressional_nmf/dtms/111.csv',\n",
       " 'JMP_congressional_nmf/dtms/112.csv',\n",
       " 'JMP_congressional_nmf/dtms/113.csv',\n",
       " 'JMP_congressional_nmf/dtms/114.csv']"
      ]
     },
     "execution_count": 3,
     "metadata": {},
     "output_type": "execute_result"
    }
   ],
   "source": [
    "role = get_execution_role()\n",
    "connection = boto3.client('s3')\n",
    "contents = connection.list_objects(Bucket='ascsagemaker',\n",
    "                                  Prefix=\"JMP_congressional_nmf/dtms\")['Contents']\n",
    "\n",
    "chamber_csv = [f['Key'] for f in contents if f['Key'].endswith('.csv')]\n",
    "chamber_csv"
   ]
  },
  {
   "cell_type": "code",
   "execution_count": 4,
   "id": "480823cf",
   "metadata": {},
   "outputs": [
    {
     "name": "stdout",
     "output_type": "stream",
     "text": [
      "JMP_congressional_nmf/dtms/102.csv\n"
     ]
    }
   ],
   "source": [
    "all_speeches = []\n",
    "for f in chamber_csv:\n",
    "    if f.endswith('102.csv'):\n",
    "        all_speeches.extend(pd.read_csv(connection.get_object(Bucket='ascsagemaker',Key=f)['Body'])['speech_processed'])\n",
    "        print(f)\n",
    "    \n",
    "all_speeches = [speech.split() for speech in all_speeches]"
   ]
  },
  {
   "cell_type": "code",
   "execution_count": 5,
   "id": "1a3dcdeb",
   "metadata": {},
   "outputs": [
    {
     "name": "stdout",
     "output_type": "stream",
     "text": [
      "91261\n"
     ]
    }
   ],
   "source": [
    "print(len(all_speeches))"
   ]
  },
  {
   "cell_type": "code",
   "execution_count": 6,
   "id": "6a0cc4c8",
   "metadata": {},
   "outputs": [
    {
     "name": "stdout",
     "output_type": "stream",
     "text": [
      "\n",
      "model training time: 0:03:51.425469\n"
     ]
    }
   ],
   "source": [
    "model = Word2Vec(all_speeches,window=10,sg=1,workers=8)\n",
    "print(f\"\\nmodel training time: {str(datetime.timedelta(seconds=model.total_train_time))}\")"
   ]
  },
  {
   "cell_type": "code",
   "execution_count": 7,
   "id": "74706332",
   "metadata": {},
   "outputs": [],
   "source": [
    "model.save('word2vec-model_102.bin')"
   ]
  },
  {
   "cell_type": "code",
   "execution_count": 14,
   "id": "c21ccf6a",
   "metadata": {},
   "outputs": [
    {
     "name": "stdout",
     "output_type": "stream",
     "text": [
      "\n",
      "model training time: 1:08:45.936644\n"
     ]
    }
   ],
   "source": [
    "print(f\"\\nmodel training time: {str(datetime.timedelta(seconds=model.total_train_time))}\")"
   ]
  },
  {
   "cell_type": "code",
   "execution_count": 47,
   "id": "600eb192",
   "metadata": {},
   "outputs": [],
   "source": [
    "connection.upload_file('word2vec-model.bin', 'ascsagemaker', 'JMP_congressional_nmf/word2vec-first20/word2vec-first20.bin')\n",
    "connection.upload_file('word2vec-model.bin.syn1neg.npy', 'ascsagemaker', 'JMP_congressional_nmf/word2vec-first20/word2vec-model.bin.syn1neg.npy')\n",
    "connection.upload_file('word2vec-model.bin.wv.vectors.npy', 'ascsagemaker', 'JMP_congressional_nmf/word2vec-first20/word2vec-model.bin.wv.vectors.npy')"
   ]
  },
  {
   "cell_type": "code",
   "execution_count": 44,
   "id": "d4feb74b",
   "metadata": {},
   "outputs": [],
   "source": [
    "w2v = gensim.models.Word2Vec.load('word2vec-model.bin')"
   ]
  }
 ],
 "metadata": {
  "kernelspec": {
   "display_name": "conda_python3",
   "language": "python",
   "name": "conda_python3"
  },
  "language_info": {
   "codemirror_mode": {
    "name": "ipython",
    "version": 3
   },
   "file_extension": ".py",
   "mimetype": "text/x-python",
   "name": "python",
   "nbconvert_exporter": "python",
   "pygments_lexer": "ipython3",
   "version": "3.6.13"
  }
 },
 "nbformat": 4,
 "nbformat_minor": 5
}
