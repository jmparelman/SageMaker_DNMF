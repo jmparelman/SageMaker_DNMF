{
 "cells": [
  {
   "cell_type": "code",
   "execution_count": 1,
   "metadata": {},
   "outputs": [],
   "source": [
    "import joblib\n",
    "import numpy as np\n",
    "import glob\n",
    "import numpy as np"
   ]
  },
  {
   "cell_type": "code",
   "execution_count": 35,
   "metadata": {},
   "outputs": [],
   "source": [
    "w2v = gensim.models.Word2Vec.load('word2vec-model.bin')"
   ]
  },
  {
   "cell_type": "code",
   "execution_count": 25,
   "metadata": {},
   "outputs": [],
   "source": [
    "def term_rankings(H,terms):\n",
    "    term_rankings = []\n",
    "    for topic_index in range(H.shape[0]):\n",
    "        top_indices = np.argsort(H[topic_index,:])[::-1]\n",
    "        term_ranking = [terms[i] for i in top_indices[:20]]\n",
    "        term_rankings.append(term_ranking)\n",
    "    return term_rankings"
   ]
  },
  {
   "cell_type": "code",
   "execution_count": 31,
   "metadata": {},
   "outputs": [],
   "source": [
    "def similarity( w2v, ranking_i, ranking_j ):\n",
    "    sim = 0.0\n",
    "    pairs = 0\n",
    "    for term_i in ranking_i:\n",
    "        for term_j in ranking_j:\n",
    "            try:\n",
    "                sim += w2v.wv.similarity(term_i, term_j)\n",
    "                pairs += 1\n",
    "            except:\n",
    "                pass\n",
    "    if pairs == 0:\n",
    "        return 0.0\n",
    "    return sim/pairs"
   ]
  },
  {
   "cell_type": "code",
   "execution_count": 32,
   "metadata": {},
   "outputs": [],
   "source": [
    "def tc_w2v(term_rankings,w2v):\n",
    "    topic_scores = []\n",
    "    overall = 0\n",
    "    for index, topic in enumerate(term_rankings):\n",
    "        score = similarity(w2v,topic,topic)\n",
    "        topic_scores.append(score)\n",
    "        overall += score\n",
    "    overall /= len(term_rankings)\n",
    "    return overall"
   ]
  },
  {
   "cell_type": "code",
   "execution_count": 33,
   "metadata": {},
   "outputs": [],
   "source": [
    "def run_coherence(H,terms,w2v):\n",
    "    rankings = term_rankings(H,terms)\n",
    "    coherence = tc_w2v(rankings,w2v)\n",
    "    return coherence"
   ]
  },
  {
   "cell_type": "code",
   "execution_count": null,
   "metadata": {},
   "outputs": [],
   "source": []
  }
 ],
 "metadata": {
  "kernelspec": {
   "display_name": "Python 3",
   "language": "python",
   "name": "python3"
  },
  "language_info": {
   "codemirror_mode": {
    "name": "ipython",
    "version": 3
   },
   "file_extension": ".py",
   "mimetype": "text/x-python",
   "name": "python",
   "nbconvert_exporter": "python",
   "pygments_lexer": "ipython3",
   "version": "3.7.5"
  }
 },
 "nbformat": 4,
 "nbformat_minor": 4
}
