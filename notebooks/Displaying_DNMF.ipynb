{
 "cells": [
  {
   "cell_type": "code",
   "execution_count": 121,
   "id": "5d322895",
   "metadata": {},
   "outputs": [
    {
     "name": "stdout",
     "output_type": "stream",
     "text": [
      "loaded chamber 101 with 25 topics\n",
      "loaded chamber 102 with 25 topics\n",
      "ran DNMF with 20 dynamic topics\n",
      "ran DNMF with 25 dynamic topics\n"
     ]
    }
   ],
   "source": [
    "%run dynamic_topics.ipynb"
   ]
  },
  {
   "cell_type": "code",
   "execution_count": 122,
   "id": "90cde63a",
   "metadata": {},
   "outputs": [],
   "source": [
    "dnmf = dynamic_models[25]"
   ]
  },
  {
   "cell_type": "code",
   "execution_count": 123,
   "id": "f828577d",
   "metadata": {},
   "outputs": [],
   "source": [
    "# static elements\n",
    "top = 10\n",
    "long = True\n",
    "\n",
    "# load in dynamic model\n",
    "dynamic_k = dnmf['H'].shape[0]\n",
    "dynamic_term_ranks = dnmf['term_rank']\n",
    "\n",
    "# map window topic names to dnmf topics\n",
    "assigned_window_map = {}\n",
    "dynamic_partition = np.argmax(dnmf['W'],axis=1).tolist()\n",
    "for idx, window_topic_label in enumerate(topic_ids):\n",
    "    assigned_window_map[window_topic_label] = dynamic_partition[idx]"
   ]
  },
  {
   "cell_type": "code",
   "execution_count": 124,
   "id": "b0dfa4e7",
   "metadata": {},
   "outputs": [],
   "source": [
    "# get all window topic models, topics and assign dynamic topics\n",
    "all_models = []\n",
    "for model in models:\n",
    "    \n",
    "    window_k = model['H'].shape[0]\n",
    "    window_term_rankings = rank_terms(model['H'],model['terms'])\n",
    "    window_labels = [f'{model[\"chamber\"]}_{i}' for i in range(model['H'].shape[0])]\n",
    "\n",
    "    topics = []\n",
    "    for idx, window_topic_label in enumerate(window_labels):\n",
    "        dynamic_topic_idx = assigned_window_map[window_topic_label]\n",
    "        term_ranks = window_term_rankings[idx]\n",
    "        topics.append({\"terms\":term_ranks,\"window_topic_id\":idx,\n",
    "                       'dynamic_topic_id':dynamic_topic_idx})\n",
    "    model_dict = {\"chamber\":chamber,\"Topics\":topics}\n",
    "    all_models.append(model_dict)"
   ]
  },
  {
   "cell_type": "code",
   "execution_count": 131,
   "id": "0d34a38e",
   "metadata": {},
   "outputs": [],
   "source": [
    "dtop = []\n",
    "for c in all_models:\n",
    "    for t in c['Topics']:\n",
    "        if t['dynamic_topic_id'] == 2:\n",
    "            dtop.append(t['terms'])"
   ]
  },
  {
   "cell_type": "code",
   "execution_count": 132,
   "id": "23c9fb58",
   "metadata": {},
   "outputs": [
    {
     "data": {
      "text/plain": [
       "[['program',\n",
       "  'fund',\n",
       "  'funding',\n",
       "  'provide',\n",
       "  'fiscal_year',\n",
       "  'research',\n",
       "  'assistance',\n",
       "  'increase',\n",
       "  'authorize',\n",
       "  'appropriation'],\n",
       " ['program',\n",
       "  'fund',\n",
       "  'funding',\n",
       "  'provide',\n",
       "  'fiscal_year',\n",
       "  'space_station',\n",
       "  'research',\n",
       "  'increase',\n",
       "  'space',\n",
       "  'assistance']]"
      ]
     },
     "execution_count": 132,
     "metadata": {},
     "output_type": "execute_result"
    }
   ],
   "source": [
    "dtop"
   ]
  },
  {
   "cell_type": "code",
   "execution_count": null,
   "id": "6aad8b15",
   "metadata": {},
   "outputs": [],
   "source": []
  }
 ],
 "metadata": {
  "kernelspec": {
   "display_name": "conda_python3",
   "language": "python",
   "name": "conda_python3"
  },
  "language_info": {
   "codemirror_mode": {
    "name": "ipython",
    "version": 3
   },
   "file_extension": ".py",
   "mimetype": "text/x-python",
   "name": "python",
   "nbconvert_exporter": "python",
   "pygments_lexer": "ipython3",
   "version": "3.6.13"
  }
 },
 "nbformat": 4,
 "nbformat_minor": 5
}
