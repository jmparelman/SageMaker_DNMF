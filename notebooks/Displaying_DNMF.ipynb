{
 "cells": [
  {
   "cell_type": "code",
   "execution_count": 1,
   "id": "07fe2f42",
   "metadata": {},
   "outputs": [
    {
     "name": "stdout",
     "output_type": "stream",
     "text": [
      "loaded chamber 97 with 75 topics\n",
      "loaded chamber 98 with 75 topics\n",
      "loaded chamber 99 with 75 topics\n",
      "loaded chamber 100 with 75 topics\n",
      "loaded chamber 101 with 75 topics\n",
      "loaded chamber 102 with 75 topics\n",
      "loaded chamber 103 with 75 topics\n",
      "loaded chamber 104 with 75 topics\n",
      "loaded chamber 105 with 75 topics\n",
      "loaded chamber 106 with 75 topics\n",
      "loaded chamber 107 with 75 topics\n",
      "loaded chamber 108 with 75 topics\n",
      "loaded chamber 109 with 75 topics\n",
      "loaded chamber 110 with 75 topics\n",
      "loaded chamber 111 with 75 topics\n",
      "loaded chamber 112 with 75 topics\n",
      "loaded chamber 113 with 75 topics\n",
      "loaded chamber 114 with 75 topics\n"
     ]
    },
    {
     "name": "stderr",
     "output_type": "stream",
     "text": [
      "/home/ec2-user/anaconda3/envs/python3/lib/python3.6/site-packages/sklearn/decomposition/_nmf.py:1091: ConvergenceWarning: Maximum number of iterations 200 reached. Increase it to improve convergence.\n",
      "  \" improve convergence.\" % max_iter, ConvergenceWarning)\n"
     ]
    },
    {
     "name": "stdout",
     "output_type": "stream",
     "text": [
      "ran DNMF with 20 dynamic topics\n"
     ]
    },
    {
     "name": "stderr",
     "output_type": "stream",
     "text": [
      "/home/ec2-user/anaconda3/envs/python3/lib/python3.6/site-packages/sklearn/decomposition/_nmf.py:1091: ConvergenceWarning: Maximum number of iterations 200 reached. Increase it to improve convergence.\n",
      "  \" improve convergence.\" % max_iter, ConvergenceWarning)\n"
     ]
    },
    {
     "name": "stdout",
     "output_type": "stream",
     "text": [
      "ran DNMF with 22 dynamic topics\n",
      "ran DNMF with 24 dynamic topics\n"
     ]
    },
    {
     "name": "stderr",
     "output_type": "stream",
     "text": [
      "/home/ec2-user/anaconda3/envs/python3/lib/python3.6/site-packages/sklearn/decomposition/_nmf.py:1091: ConvergenceWarning: Maximum number of iterations 200 reached. Increase it to improve convergence.\n",
      "  \" improve convergence.\" % max_iter, ConvergenceWarning)\n"
     ]
    },
    {
     "name": "stdout",
     "output_type": "stream",
     "text": [
      "ran DNMF with 26 dynamic topics\n"
     ]
    },
    {
     "name": "stderr",
     "output_type": "stream",
     "text": [
      "/home/ec2-user/anaconda3/envs/python3/lib/python3.6/site-packages/sklearn/decomposition/_nmf.py:1091: ConvergenceWarning: Maximum number of iterations 200 reached. Increase it to improve convergence.\n",
      "  \" improve convergence.\" % max_iter, ConvergenceWarning)\n"
     ]
    },
    {
     "name": "stdout",
     "output_type": "stream",
     "text": [
      "ran DNMF with 28 dynamic topics\n",
      "ran DNMF with 30 dynamic topics\n",
      "ran DNMF with 32 dynamic topics\n",
      "ran DNMF with 34 dynamic topics\n",
      "ran DNMF with 36 dynamic topics\n",
      "ran DNMF with 38 dynamic topics\n",
      "ran DNMF with 40 dynamic topics\n",
      "ran DNMF with 42 dynamic topics\n",
      "ran DNMF with 44 dynamic topics\n",
      "ran DNMF with 46 dynamic topics\n",
      "ran DNMF with 48 dynamic topics\n",
      "ran DNMF with 50 dynamic topics\n"
     ]
    }
   ],
   "source": [
    "%run dynamic_topics.ipynb"
   ]
  },
  {
   "cell_type": "code",
   "execution_count": 2,
   "id": "0a3279ec",
   "metadata": {},
   "outputs": [],
   "source": [
    "dnmf = dynamic_models[50]"
   ]
  },
  {
   "cell_type": "code",
   "execution_count": 3,
   "id": "a4364abb",
   "metadata": {},
   "outputs": [],
   "source": [
    "# static elements\n",
    "top = 10\n",
    "long = True\n",
    "\n",
    "# load in dynamic model\n",
    "dynamic_k = dnmf['H'].shape[0]\n",
    "dynamic_term_ranks = dnmf['term_rank']\n",
    "\n",
    "# map window topic names to dnmf topics\n",
    "assigned_window_map = {}\n",
    "dynamic_partition = np.argmax(dnmf['W'],axis=1).tolist()\n",
    "for idx, window_topic_label in enumerate(topic_ids):\n",
    "    assigned_window_map[window_topic_label] = dynamic_partition[idx]"
   ]
  },
  {
   "cell_type": "code",
   "execution_count": 10,
   "id": "d7032bf2",
   "metadata": {},
   "outputs": [],
   "source": [
    "# get all window topic models, topics and assign dynamic topics\n",
    "all_models = []\n",
    "for model in models:\n",
    "    \n",
    "    window_k = model['H'].shape[0]\n",
    "    window_term_rankings = rank_terms(model['H'],model['terms'])\n",
    "    if model['chamber'].startswith('0'):\n",
    "        model['chamber'] = model['chamber'][1:]\n",
    "    window_labels = [f'{model[\"chamber\"]}_{i}' for i in range(model['H'].shape[0])]\n",
    "\n",
    "    topics = []\n",
    "    \n",
    "    for idx, window_topic_label in enumerate(window_labels):\n",
    "        dynamic_topic_idx = assigned_window_map[window_topic_label]\n",
    "        term_ranks = window_term_rankings[idx]\n",
    "        topics.append({\"terms\":term_ranks,\"window_topic_id\":idx,\n",
    "                       'dynamic_topic_id':dynamic_topic_idx})\n",
    "    model_dict = {\"chamber\":model['chamber'],\"Topics\":topics}\n",
    "    all_models.append(model_dict)"
   ]
  },
  {
   "cell_type": "code",
   "execution_count": 18,
   "id": "6b5faa64",
   "metadata": {},
   "outputs": [],
   "source": [
    "dtop = []\n",
    "for c in all_models:\n",
    "    for t in c['Topics']:\n",
    "        if t['dynamic_topic_id'] == 31:\n",
    "            dtop.append(t['terms'])"
   ]
  },
  {
   "cell_type": "code",
   "execution_count": 21,
   "id": "cae7452d",
   "metadata": {},
   "outputs": [],
   "source": [
    "import json"
   ]
  },
  {
   "cell_type": "code",
   "execution_count": 22,
   "id": "bb6f28e6",
   "metadata": {},
   "outputs": [],
   "source": [
    "with open('../data/DNMF_WK75_DK50.json','w') as File:\n",
    "    json.dump(all_models,File)"
   ]
  },
  {
   "cell_type": "code",
   "execution_count": null,
   "id": "26f1b5d1",
   "metadata": {},
   "outputs": [],
   "source": []
  }
 ],
 "metadata": {
  "kernelspec": {
   "display_name": "conda_python3",
   "language": "python",
   "name": "conda_python3"
  },
  "language_info": {
   "codemirror_mode": {
    "name": "ipython",
    "version": 3
   },
   "file_extension": ".py",
   "mimetype": "text/x-python",
   "name": "python",
   "nbconvert_exporter": "python",
   "pygments_lexer": "ipython3",
   "version": "3.6.13"
  }
 },
 "nbformat": 4,
 "nbformat_minor": 5
}
