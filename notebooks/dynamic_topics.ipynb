{
 "cells": [
  {
   "cell_type": "markdown",
   "id": "55b201b1",
   "metadata": {},
   "source": [
    "### Make a Dynamic Topic model"
   ]
  },
  {
   "cell_type": "code",
   "execution_count": 1,
   "id": "87c74772",
   "metadata": {},
   "outputs": [],
   "source": [
    "import boto3\n",
    "from sklearn import decomposition\n",
    "import numpy as np\n",
    "import tarfile, io, joblib\n",
    "import pandas as pd\n",
    "\n",
    "from Greene_dnmf import TopicCollection\n"
   ]
  },
  {
   "cell_type": "markdown",
   "id": "b15d1a71",
   "metadata": {},
   "source": [
    "### Establish Boto3 client, get model paths, and model ks."
   ]
  },
  {
   "cell_type": "code",
   "execution_count": 2,
   "id": "1e4285e1",
   "metadata": {},
   "outputs": [],
   "source": [
    "connection = boto3.client('s3')\n",
    "paginator = connection.get_paginator('list_objects_v2')\n",
    "\n",
    "# map chamber to model_path\n",
    "chamber_map = {}\n",
    "\n",
    "c = 97\n",
    "for page in paginator.paginate(Bucket='ascsagemaker', Prefix=\"JMP_congressional_nmf/unigram_models\"):\n",
    "    for ob in page['Contents']:\n",
    "        if ob['Key'].endswith('.tar.gz'):\n",
    "            chamber_map[c] = ob['Key']\n",
    "            c += 1\n"
   ]
  },
  {
   "cell_type": "markdown",
   "id": "a35f5a85",
   "metadata": {},
   "source": [
    "### Make DTM for DNMF from all window topics"
   ]
  },
  {
   "cell_type": "code",
   "execution_count": 3,
   "id": "32101727",
   "metadata": {},
   "outputs": [],
   "source": [
    "def get_k_from_model(chamber,k):\n",
    "    \"\"\"\n",
    "    finds and loads model with given k\n",
    "    \"\"\"\n",
    "    \n",
    "    model_path = chamber_map[chamber]\n",
    "    object_ = connection.get_object(Bucket='ascsagemaker',Key=model_path)['Body'].read()\n",
    "    tar = tarfile.open(fileobj=io.BytesIO(object_))\n",
    "    members = tar.getmembers()\n",
    "    \n",
    "    chamber = members[0].name.split('_')[1]\n",
    "    member_name = f\"NMF_{chamber}_{k}.pkl\"\n",
    "    model = joblib.load(tar.extractfile(member=tar.getmember(member_name)))\n",
    "    model['chamber'] = chamber\n",
    "    return model"
   ]
  },
  {
   "cell_type": "code",
   "execution_count": 5,
   "id": "6abaa3f5",
   "metadata": {},
   "outputs": [],
   "source": [
    "# create the DNMF DTM\n",
    "wk = 75\n",
    "\n",
    "collection = TopicCollection()\n",
    "models = []\n",
    "for chamber in chamber_map.keys():\n",
    "    model = get_k_from_model(chamber,wk)\n",
    "    window_topic_names = [f'{chamber}_{i}' for i in range(model['H'].shape[0])]\n",
    "    collection.add_topic_model(model['H'],model['terms'],window_topic_names)\n",
    "    models.append(model)\n",
    "    print(f'loaded chamber {chamber} with {wk} topics')\n",
    "\n",
    "M, all_terms = collection.create_matrix()\n",
    "topic_ids = collection.topic_ids"
   ]
  },
  {
   "cell_type": "markdown",
   "id": "f8bcadd0",
   "metadata": {},
   "source": [
    "### run DNMF"
   ]
  },
  {
   "cell_type": "code",
   "execution_count": 184,
   "id": "082f290a",
   "metadata": {},
   "outputs": [],
   "source": [
    "def rank_terms(H,terms):\n",
    "    term_rankings = []\n",
    "    for topic_index in range(H.shape[0]):\n",
    "        top_indices = np.argsort(H[topic_index,:])[::-1]\n",
    "        term_ranking = [terms[i] for i in top_indices[:10]]\n",
    "        term_rankings.append(term_ranking)\n",
    "    return term_rankings"
   ]
  },
  {
   "cell_type": "code",
   "execution_count": 185,
   "id": "870f86e6",
   "metadata": {},
   "outputs": [],
   "source": [
    "def run_dnmf(M,k,terms):\n",
    "    dnmf = decomposition.NMF(n_components=k,init='nndsvd',max_iter=200,random_state=1234)\n",
    "    results = {\"W\":dnmf.fit_transform(M),\n",
    "                         'H':dnmf.components_,\n",
    "                         \"model\":dnmf,\n",
    "                         'term_rank':rank_terms(dnmf.components_,terms)}\n",
    "    results['partition'] = np.argmax(results['W'],axis=1).tolist()\n",
    "\n",
    "    return results"
   ]
  },
  {
   "cell_type": "code",
   "execution_count": 186,
   "id": "d68a8174",
   "metadata": {},
   "outputs": [
    {
     "name": "stdout",
     "output_type": "stream",
     "text": [
      "ran DNMF with 20 dynamic topics\n",
      "ran DNMF with 25 dynamic topics\n"
     ]
    }
   ],
   "source": [
    "dynamic_models = {}\n",
    "k_range = range(20,51,2)\n",
    "for k in k_range:\n",
    "    dynamic_models[k] = run_dnmf(M,k,all_terms)   \n",
    "    print(f\"ran DNMF with {k} dynamic topics\")"
   ]
  },
  {
   "cell_type": "code",
   "execution_count": null,
   "id": "58bd9dcf",
   "metadata": {},
   "outputs": [],
   "source": []
  }
 ],
 "metadata": {
  "kernelspec": {
   "display_name": "conda_python3",
   "language": "python",
   "name": "conda_python3"
  },
  "language_info": {
   "codemirror_mode": {
    "name": "ipython",
    "version": 3
   },
   "file_extension": ".py",
   "mimetype": "text/x-python",
   "name": "python",
   "nbconvert_exporter": "python",
   "pygments_lexer": "ipython3",
   "version": "3.6.13"
  }
 },
 "nbformat": 4,
 "nbformat_minor": 5
}
