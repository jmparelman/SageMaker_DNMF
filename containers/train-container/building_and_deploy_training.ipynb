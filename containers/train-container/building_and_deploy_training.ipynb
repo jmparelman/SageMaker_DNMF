{
 "cells": [
  {
   "cell_type": "markdown",
   "id": "0d21de9e",
   "metadata": {},
   "source": [
    "# Building and Training NMF Model Training Encoder"
   ]
  },
  {
   "cell_type": "code",
   "execution_count": 1,
   "id": "e1b59018",
   "metadata": {},
   "outputs": [],
   "source": [
    "import boto3,os\n",
    "import sagemaker as sage, get_execution_role\n",
    "from time import gmtime,strftime\n",
    "\n"
   ]
  },
  {
   "cell_type": "code",
   "execution_count": 2,
   "id": "f3a542c6",
   "metadata": {},
   "outputs": [],
   "source": [
    "region = boto3.session.Session().region_name\n",
    "account_id = boto3.client('sts').get_caller_identity().get('Account')\n",
    "ecr_repository = 'sagemaker-nmf-container'\n",
    "tag = ':nmflatest'\n",
    "training_repository_uri = f'{account_id}.dkr.ecr.{region}.amazonaws.com/{ecr_repository}'\n",
    "\n",
    "role = get_execution_role()\n",
    "sess = sage.Session()"
   ]
  },
  {
   "cell_type": "code",
   "execution_count": 109,
   "id": "93c94118",
   "metadata": {},
   "outputs": [
    {
     "name": "stdout",
     "output_type": "stream",
     "text": [
      "Sending build context to Docker daemon  30.72kB\n",
      "Step 1/10 : FROM python:3.7-slim-buster\n",
      " ---> b142ab477505\n",
      "Step 2/10 : MAINTAINER ASC \"mbod@asc.upenn.edu jmparelman@gmail.com\"\n",
      " ---> Using cache\n",
      " ---> 9af566ff1024\n",
      "Step 3/10 : RUN mkdir -p /data/input /data/output\n",
      " ---> Using cache\n",
      " ---> 8ec4f649154c\n",
      "Step 4/10 : RUN apt-get -y update && apt-get install -y --no-install-recommends         build-essential         python-dev         python3-pip     && pip3 install -U pip\n",
      " ---> Using cache\n",
      " ---> f6a2aea3048b\n",
      "Step 5/10 : RUN     pip3 install -U pandas          joblib          sklearn\n",
      " ---> Using cache\n",
      " ---> 496ec0a5ad5f\n",
      "Step 6/10 : ENV PYTHONUNBUFFERED=TRUE\n",
      " ---> Using cache\n",
      " ---> 5d5264c66841\n",
      "Step 7/10 : ENV PYTHONDONTWRITEBYTECODE=TRUE\n",
      " ---> Using cache\n",
      " ---> 2ac53032f87e\n",
      "Step 8/10 : ENV PATH=\"/opt/ml:${PATH}\"\n",
      " ---> Using cache\n",
      " ---> 13bd2ccf2de2\n",
      "Step 9/10 : COPY scripts/run_nmf.py /opt/ml/run_nmf.py\n",
      " ---> ccfdd76a7a36\n",
      "Step 10/10 : ENTRYPOINT [\"python3\",\"/opt/ml/run_nmf.py\"]\n",
      " ---> Running in 7fea8b2adf2c\n",
      "Removing intermediate container 7fea8b2adf2c\n",
      " ---> 0d7e5e88f29d\n",
      "Successfully built 0d7e5e88f29d\n",
      "Successfully tagged sagemaker-nmf-container:latest\n"
     ]
    }
   ],
   "source": [
    "!docker build -t $ecr_repository ."
   ]
  },
  {
   "cell_type": "code",
   "execution_count": 110,
   "id": "580e17e4",
   "metadata": {},
   "outputs": [
    {
     "name": "stdout",
     "output_type": "stream",
     "text": [
      "WARNING! Your password will be stored unencrypted in /home/ec2-user/.docker/config.json.\n",
      "Configure a credential helper to remove this warning. See\n",
      "https://docs.docker.com/engine/reference/commandline/login/#credentials-store\n",
      "\n",
      "Login Succeeded\n"
     ]
    }
   ],
   "source": [
    "!aws ecr get-login-password --region us-east-1 | docker login --username AWS --password-stdin 064258348567.dkr.ecr.us-east-1.amazonaws.com"
   ]
  },
  {
   "cell_type": "code",
   "execution_count": 111,
   "id": "60e97caf",
   "metadata": {},
   "outputs": [
    {
     "name": "stdout",
     "output_type": "stream",
     "text": [
      "\n",
      "An error occurred (RepositoryAlreadyExistsException) when calling the CreateRepository operation: The repository with name 'sagemaker-nmf-container' already exists in the registry with id '064258348567'\n"
     ]
    }
   ],
   "source": [
    "!aws ecr create-repository --repository-name $ecr_repository"
   ]
  },
  {
   "cell_type": "code",
   "execution_count": 112,
   "id": "f84c7624",
   "metadata": {},
   "outputs": [
    {
     "name": "stdout",
     "output_type": "stream",
     "text": [
      "The push refers to repository [064258348567.dkr.ecr.us-east-1.amazonaws.com/sagemaker-nmf-container]\n",
      "\n",
      "\u001b[1Bed4854ab: Preparing \n",
      "\u001b[1B928e1a33: Preparing \n",
      "\u001b[1Bfb75ae7f: Preparing \n",
      "\u001b[1B7a5861f3: Preparing \n",
      "\u001b[1B6a810ca1: Preparing \n",
      "\u001b[1B6bb9ffea: Preparing \n",
      "\u001b[1B663e622b: Preparing \n",
      "\u001b[1B845af46d: Preparing \n",
      "\u001b[9Bed4854ab: Pushed lready exists 6kBA\u001b[2K\u001b[9A\u001b[2K\u001b[9A\u001b[2Klatest: digest: sha256:e1818bb799fc833214f83a04f6eb2d7d43e9ff99aa00a7ef6ef1d822a7e04ce0 size: 2211\n"
     ]
    }
   ],
   "source": [
    "!docker tag {ecr_repository} \"064258348567.dkr.ecr.us-east-1.amazonaws.com/sagemaker-nmf-container:latest\"\n",
    "!docker push \"064258348567.dkr.ecr.us-east-1.amazonaws.com/sagemaker-nmf-container:latest\""
   ]
  },
  {
   "cell_type": "code",
   "execution_count": 114,
   "id": "802e3513",
   "metadata": {},
   "outputs": [],
   "source": [
    "nmf = sage.estimator.Estimator( \"064258348567.dkr.ecr.us-east-1.amazonaws.com/sagemaker-nmf-container:latest\",\n",
    "                              role,1, 'ml.m4.16xlarge',\n",
    "                              output_path = 's3://ascsagemaker/JMP_congressional_nmf/models',\n",
    "                              sagemaker_session=sess,\n",
    "                              max_run=7200)"
   ]
  },
  {
   "cell_type": "markdown",
   "id": "1354d6ea",
   "metadata": {},
   "source": [
    "# START JOBS"
   ]
  },
  {
   "cell_type": "code",
   "execution_count": null,
   "id": "ecb16985",
   "metadata": {},
   "outputs": [],
   "source": [
    "congress_list = [102]"
   ]
  },
  {
   "cell_type": "code",
   "execution_count": 115,
   "id": "931e5627",
   "metadata": {},
   "outputs": [],
   "source": [
    "for congress in congress_list:\n",
    "    nmf.fit(f's3://ascsagemaker/JMP_congressional_nmf/dtms/{congress}.pkl',wait=False)"
   ]
  }
 ],
 "metadata": {
  "kernelspec": {
   "display_name": "conda_python3",
   "language": "python",
   "name": "conda_python3"
  },
  "language_info": {
   "codemirror_mode": {
    "name": "ipython",
    "version": 3
   },
   "file_extension": ".py",
   "mimetype": "text/x-python",
   "name": "python",
   "nbconvert_exporter": "python",
   "pygments_lexer": "ipython3",
   "version": "3.6.13"
  }
 },
 "nbformat": 4,
 "nbformat_minor": 5
}
