{
 "cells": [
  {
   "cell_type": "code",
   "execution_count": 1,
   "id": "6cff0f82",
   "metadata": {},
   "outputs": [],
   "source": [
    "import boto3,os\n",
    "import sagemaker as sage\n",
    "from sagemaker import get_execution_role\n",
    "from time import gmtime,strftime"
   ]
  },
  {
   "cell_type": "code",
   "execution_count": 2,
   "id": "0a8b251f",
   "metadata": {},
   "outputs": [],
   "source": [
    "region = boto3.session.Session().region_name\n",
    "account_id = boto3.client('sts').get_caller_identity().get('Account')\n",
    "ecr_repository = 'sagemaker-nmf-container'\n",
    "tag = ':nmflatest'\n",
    "training_repository_uri = f'{account_id}.dkr.ecr.{region}.amazonaws.com/{ecr_repository}'\n",
    "\n",
    "role = get_execution_role()\n",
    "sess = sage.Session()"
   ]
  },
  {
   "cell_type": "code",
   "execution_count": 17,
   "id": "99001b69",
   "metadata": {},
   "outputs": [
    {
     "name": "stdout",
     "output_type": "stream",
     "text": [
      "Sending build context to Docker daemon   42.5kB\n",
      "Step 1/10 : FROM python:3.7-slim-buster\n",
      " ---> e7d86653f62f\n",
      "Step 2/10 : MAINTAINER ASC \"mbod@asc.upenn.edu jmparelman@gmail.com\"\n",
      " ---> Using cache\n",
      " ---> a2426e1e7b5b\n",
      "Step 3/10 : RUN mkdir -p /data/input /data/output\n",
      " ---> Using cache\n",
      " ---> e89d28149bc8\n",
      "Step 4/10 : RUN apt-get -y update && apt-get install -y --no-install-recommends         build-essential         python-dev         python3-pip     && pip3 install -U pip\n",
      " ---> Using cache\n",
      " ---> a95a37ea34c1\n",
      "Step 5/10 : RUN     pip3 install -U pandas          joblib          sklearn\n",
      " ---> Using cache\n",
      " ---> a76a301f7eef\n",
      "Step 6/10 : ENV PYTHONUNBUFFERED=TRUE\n",
      " ---> Using cache\n",
      " ---> 2cd5171a4e08\n",
      "Step 7/10 : ENV PYTHONDONTWRITEBYTECODE=TRUE\n",
      " ---> Using cache\n",
      " ---> 99bc4a23967f\n",
      "Step 8/10 : ENV PATH=\"/opt/ml:${PATH}\"\n",
      " ---> Using cache\n",
      " ---> 97ccddcefd72\n",
      "Step 9/10 : COPY scripts/run_nmf.py /opt/ml/run_nmf.py\n",
      " ---> d5dd5b91a71c\n",
      "Step 10/10 : ENTRYPOINT [\"python3\",\"/opt/ml/run_nmf.py\"]\n",
      " ---> Running in 7a9248160f6c\n",
      "Removing intermediate container 7a9248160f6c\n",
      " ---> 78fa568ff4ea\n",
      "Successfully built 78fa568ff4ea\n",
      "Successfully tagged sagemaker-nmf-container:latest\n"
     ]
    }
   ],
   "source": [
    "!docker build -t $ecr_repository ."
   ]
  },
  {
   "cell_type": "code",
   "execution_count": 18,
   "id": "a119adf9",
   "metadata": {},
   "outputs": [
    {
     "name": "stdout",
     "output_type": "stream",
     "text": [
      "WARNING! Your password will be stored unencrypted in /home/ec2-user/.docker/config.json.\n",
      "Configure a credential helper to remove this warning. See\n",
      "https://docs.docker.com/engine/reference/commandline/login/#credentials-store\n",
      "\n",
      "Login Succeeded\n"
     ]
    }
   ],
   "source": [
    "!aws ecr get-login-password --region us-east-1 | docker login --username AWS --password-stdin 064258348567.dkr.ecr.us-east-1.amazonaws.com"
   ]
  },
  {
   "cell_type": "code",
   "execution_count": 19,
   "id": "6e05b5e1",
   "metadata": {},
   "outputs": [
    {
     "name": "stdout",
     "output_type": "stream",
     "text": [
      "\n",
      "An error occurred (RepositoryAlreadyExistsException) when calling the CreateRepository operation: The repository with name 'sagemaker-nmf-container' already exists in the registry with id '064258348567'\n"
     ]
    }
   ],
   "source": [
    "!aws ecr create-repository --repository-name $ecr_repository"
   ]
  },
  {
   "cell_type": "code",
   "execution_count": 20,
   "id": "593d4853",
   "metadata": {},
   "outputs": [
    {
     "name": "stdout",
     "output_type": "stream",
     "text": [
      "The push refers to repository [064258348567.dkr.ecr.us-east-1.amazonaws.com/sagemaker-nmf-container]\n",
      "\n",
      "\u001b[1B2834dac4: Preparing \n",
      "\u001b[1B4d9b5eab: Preparing \n",
      "\u001b[1Bafb0d5e9: Preparing \n",
      "\u001b[1Bc7543451: Preparing \n",
      "\u001b[1B3c6439bc: Preparing \n",
      "\u001b[1B6bb9ffea: Preparing \n",
      "\u001b[1B663e622b: Preparing \n",
      "\u001b[1B845af46d: Preparing \n",
      "\u001b[9B2834dac4: Pushed lready exists 2kB2K\u001b[9A\u001b[2K\u001b[9A\u001b[2Klatest: digest: sha256:762b9c2d5af80f0e92e595913ef0711e8c5dda541f7ca4fd8294d4f51282d10c size: 2211\n"
     ]
    }
   ],
   "source": [
    "!docker tag {ecr_repository} \"064258348567.dkr.ecr.us-east-1.amazonaws.com/sagemaker-nmf-container:latest\"\n",
    "!docker push \"064258348567.dkr.ecr.us-east-1.amazonaws.com/sagemaker-nmf-container:latest\""
   ]
  },
  {
   "cell_type": "code",
   "execution_count": 6,
   "id": "619f69e0",
   "metadata": {},
   "outputs": [],
   "source": [
    "nmf = sage.estimator.Estimator( \"064258348567.dkr.ecr.us-east-1.amazonaws.com/sagemaker-nmf-container:latest\",\n",
    "                              role,1, 'ml.m4.16xlarge',\n",
    "                              output_path = 's3://ascsagemaker/JMP_congressional_nmf/models',\n",
    "                              sagemaker_session=sess,\n",
    "                              max_run=9000)"
   ]
  },
  {
   "cell_type": "markdown",
   "id": "bc214a30",
   "metadata": {},
   "source": [
    "# START JOBS"
   ]
  },
  {
   "cell_type": "code",
   "execution_count": 4,
   "id": "60bafe33",
   "metadata": {},
   "outputs": [
    {
     "name": "stdout",
     "output_type": "stream",
     "text": [
      "111\n",
      "112\n",
      "113\n",
      "114\n"
     ]
    }
   ],
   "source": [
    "congress_list = range(111,115)\n",
    "for chamber in congress_list:\n",
    "    cstr = '{:0>3}'.format(chamber)\n",
    "    print(cstr)"
   ]
  },
  {
   "cell_type": "code",
   "execution_count": 7,
   "id": "09a1457c",
   "metadata": {},
   "outputs": [
    {
     "name": "stdout",
     "output_type": "stream",
     "text": [
      "Scheduling 111\n",
      "Scheduling 112\n",
      "Scheduling 113\n",
      "Scheduling 114\n"
     ]
    }
   ],
   "source": [
    "for chamber in congress_list:\n",
    "    cstr = '{:0>3}'.format(chamber)\n",
    "    print('Scheduling', chamber)\n",
    "    nmf.fit(f's3://ascsagemaker/JMP_congressional_nmf/latest_dtms/{cstr}.pkl',wait=False)"
   ]
  },
  {
   "cell_type": "code",
   "execution_count": null,
   "id": "08fab08f",
   "metadata": {},
   "outputs": [],
   "source": []
  }
 ],
 "metadata": {
  "kernelspec": {
   "display_name": "conda_python3",
   "language": "python",
   "name": "conda_python3"
  },
  "language_info": {
   "codemirror_mode": {
    "name": "ipython",
    "version": 3
   },
   "file_extension": ".py",
   "mimetype": "text/x-python",
   "name": "python",
   "nbconvert_exporter": "python",
   "pygments_lexer": "ipython3",
   "version": "3.6.13"
  }
 },
 "nbformat": 4,
 "nbformat_minor": 5
}
