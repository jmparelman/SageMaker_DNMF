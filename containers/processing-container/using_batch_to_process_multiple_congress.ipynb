{
 "cells": [
  {
   "cell_type": "markdown",
   "id": "bf1fee74",
   "metadata": {},
   "source": [
    "# Using AWS Batch Processing to do preprocessing on congress data\n",
    "\n",
    "\n",
    "#### HISTORY\n",
    "\n",
    "* 4/29/21 mbod - try preproc for 97-114 congress data using AWS batch\n"
   ]
  },
  {
   "cell_type": "markdown",
   "id": "8eb634bd",
   "metadata": {},
   "source": [
    "### Trying launching multiple processes\n",
    "\n",
    "* Before we resort to AWS Batch what happens if we try and launch multiple processes with SageMaker SDK?"
   ]
  },
  {
   "cell_type": "code",
   "execution_count": 1,
   "id": "c93862b1",
   "metadata": {},
   "outputs": [],
   "source": [
    "import boto3\n",
    "from sagemaker import get_execution_role\n",
    "from sagemaker.processing import ScriptProcessor, ProcessingInput, ProcessingOutput\n"
   ]
  },
  {
   "cell_type": "code",
   "execution_count": 2,
   "id": "0187a009",
   "metadata": {},
   "outputs": [],
   "source": [
    "region = boto3.session.Session().region_name \n",
    "\n",
    "account_id = boto3.client('sts').get_caller_identity().get('Account')\n",
    "ecr_repository = 'sagemaker-processing-container'\n",
    "tag = ':latest'\n",
    "processing_repository_uri = '{}.dkr.ecr.{}.amazonaws.com/{}'.format(account_id, region, ecr_repository + tag)\n",
    "role = get_execution_role()\n"
   ]
  },
  {
   "cell_type": "code",
   "execution_count": 3,
   "id": "bd19c018",
   "metadata": {},
   "outputs": [],
   "source": [
    "script_processor = ScriptProcessor(command=['python3'],\n",
    "                image_uri=processing_repository_uri,\n",
    "                role=role,\n",
    "                instance_count=1,\n",
    "                instance_type='ml.m5.2xlarge')\n"
   ]
  },
  {
   "cell_type": "code",
   "execution_count": 4,
   "id": "c5ca851e",
   "metadata": {},
   "outputs": [
    {
     "name": "stdout",
     "output_type": "stream",
     "text": [
      "Scheduling 104\n",
      "\n",
      "Job Name:  sagemaker-processing-container-2021-04-30-23-32-52-645\n",
      "Inputs:  [{'InputName': 'input-1', 'AppManaged': False, 'S3Input': {'S3Uri': 's3://ascsagemaker/JMP_congressional_nmf/raw_data/speeches_104.txt', 'LocalPath': '/opt/ml/processing/input/speeches', 'S3DataType': 'S3Prefix', 'S3InputMode': 'File', 'S3DataDistributionType': 'FullyReplicated', 'S3CompressionType': 'None'}}, {'InputName': 'input-2', 'AppManaged': False, 'S3Input': {'S3Uri': 's3://ascsagemaker/JMP_congressional_nmf/raw_data/descr_104.txt', 'LocalPath': '/opt/ml/processing/input/descr', 'S3DataType': 'S3Prefix', 'S3InputMode': 'File', 'S3DataDistributionType': 'FullyReplicated', 'S3CompressionType': 'None'}}, {'InputName': 'code', 'AppManaged': False, 'S3Input': {'S3Uri': 's3://sagemaker-us-east-1-064258348567/sagemaker-processing-container-2021-04-30-23-32-52-645/input/code/congress_pre_process.py', 'LocalPath': '/opt/ml/processing/input/code', 'S3DataType': 'S3Prefix', 'S3InputMode': 'File', 'S3DataDistributionType': 'FullyReplicated', 'S3CompressionType': 'None'}}]\n",
      "Outputs:  [{'OutputName': 'output-1', 'AppManaged': False, 'S3Output': {'S3Uri': 's3://ascsagemaker/JMP_congressional_nmf/dtms', 'LocalPath': '/opt/ml/processing/output', 'S3UploadMode': 'EndOfJob'}}]\n"
     ]
    }
   ],
   "source": [
    "for chamber in range(104,105):\n",
    "    cstr = '{:0>3}'.format(chamber)\n",
    "    print('Scheduling', chamber)\n",
    "    script_processor.run(code='scripts/congress_pre_process.py',\n",
    "                     inputs=[ProcessingInput(\n",
    "                        source=f's3://ascsagemaker/JMP_congressional_nmf/raw_data/speeches_{cstr}.txt',\n",
    "                        destination='/opt/ml/processing/input/speeches'),\n",
    "                            ProcessingInput(\n",
    "                        source=f's3://ascsagemaker/JMP_congressional_nmf/raw_data/descr_{cstr}.txt',\n",
    "                        destination='/opt/ml/processing/input/descr')\n",
    "                            ],\n",
    "                      outputs=[ProcessingOutput(\n",
    "                        source='/opt/ml/processing/output',\n",
    "                        destination='s3://ascsagemaker/JMP_congressional_nmf/dtms')],\n",
    "                      arguments=[cstr],\n",
    "                     wait=False\n",
    "                    )"
   ]
  },
  {
   "cell_type": "code",
   "execution_count": 91,
   "id": "bbbb302d",
   "metadata": {},
   "outputs": [
    {
     "data": {
      "text/plain": [
       "{'ProcessingInputs': [{'InputName': 'input-1',\n",
       "   'AppManaged': False,\n",
       "   'S3Input': {'S3Uri': 's3://ascsagemaker/JMP_congressional_nmf/raw_data/speeches_104.txt',\n",
       "    'LocalPath': '/opt/ml/processing/input/speeches',\n",
       "    'S3DataType': 'S3Prefix',\n",
       "    'S3InputMode': 'File',\n",
       "    'S3DataDistributionType': 'FullyReplicated',\n",
       "    'S3CompressionType': 'None'}},\n",
       "  {'InputName': 'input-2',\n",
       "   'AppManaged': False,\n",
       "   'S3Input': {'S3Uri': 's3://ascsagemaker/JMP_congressional_nmf/raw_data/descr_104.txt',\n",
       "    'LocalPath': '/opt/ml/processing/input/descr',\n",
       "    'S3DataType': 'S3Prefix',\n",
       "    'S3InputMode': 'File',\n",
       "    'S3DataDistributionType': 'FullyReplicated',\n",
       "    'S3CompressionType': 'None'}},\n",
       "  {'InputName': 'code',\n",
       "   'AppManaged': False,\n",
       "   'S3Input': {'S3Uri': 's3://sagemaker-us-east-1-064258348567/sagemaker-processing-container-2021-04-30-02-50-40-869/input/code/congress_pre_process.py',\n",
       "    'LocalPath': '/opt/ml/processing/input/code',\n",
       "    'S3DataType': 'S3Prefix',\n",
       "    'S3InputMode': 'File',\n",
       "    'S3DataDistributionType': 'FullyReplicated',\n",
       "    'S3CompressionType': 'None'}}],\n",
       " 'ProcessingOutputConfig': {'Outputs': [{'OutputName': 'output-1',\n",
       "    'S3Output': {'S3Uri': 's3://ascsagemaker/JMP_congressional_nmf/dtms',\n",
       "     'LocalPath': '/opt/ml/processing/output',\n",
       "     'S3UploadMode': 'EndOfJob'},\n",
       "    'AppManaged': False}]},\n",
       " 'ProcessingJobName': 'sagemaker-processing-container-2021-04-30-02-50-40-869',\n",
       " 'ProcessingResources': {'ClusterConfig': {'InstanceCount': 1,\n",
       "   'InstanceType': 'ml.m5.2xlarge',\n",
       "   'VolumeSizeInGB': 30}},\n",
       " 'StoppingCondition': {'MaxRuntimeInSeconds': 86400},\n",
       " 'AppSpecification': {'ImageUri': '064258348567.dkr.ecr.us-east-1.amazonaws.com/sagemaker-processing-container:latest',\n",
       "  'ContainerEntrypoint': ['python3',\n",
       "   '/opt/ml/processing/input/code/congress_pre_process.py'],\n",
       "  'ContainerArguments': ['104']},\n",
       " 'RoleArn': 'arn:aws:iam::064258348567:role/service-role/AmazonSageMaker-ExecutionRole-20200131T104492',\n",
       " 'ProcessingJobArn': 'arn:aws:sagemaker:us-east-1:064258348567:processing-job/sagemaker-processing-container-2021-04-30-02-50-40-869',\n",
       " 'ProcessingJobStatus': 'InProgress',\n",
       " 'ProcessingStartTime': datetime.datetime(2021, 4, 30, 2, 54, 21, 660000, tzinfo=tzlocal()),\n",
       " 'LastModifiedTime': datetime.datetime(2021, 4, 30, 2, 54, 21, 663000, tzinfo=tzlocal()),\n",
       " 'CreationTime': datetime.datetime(2021, 4, 30, 2, 50, 41, 229000, tzinfo=tzlocal()),\n",
       " 'ResponseMetadata': {'RequestId': '1543e21d-3de6-4277-90c5-5b9e983203ca',\n",
       "  'HTTPStatusCode': 200,\n",
       "  'HTTPHeaders': {'x-amzn-requestid': '1543e21d-3de6-4277-90c5-5b9e983203ca',\n",
       "   'content-type': 'application/x-amz-json-1.1',\n",
       "   'content-length': '2020',\n",
       "   'date': 'Fri, 30 Apr 2021 02:56:03 GMT'},\n",
       "  'RetryAttempts': 0}}"
      ]
     },
     "execution_count": 91,
     "metadata": {},
     "output_type": "execute_result"
    }
   ],
   "source": [
    "script_processor.jobs[-1].describe()"
   ]
  },
  {
   "cell_type": "code",
   "execution_count": null,
   "id": "726d03a5",
   "metadata": {},
   "outputs": [],
   "source": []
  },
  {
   "cell_type": "code",
   "execution_count": null,
   "id": "deff13fb",
   "metadata": {},
   "outputs": [],
   "source": []
  }
 ],
 "metadata": {
  "kernelspec": {
   "display_name": "conda_python3",
   "language": "python",
   "name": "conda_python3"
  },
  "language_info": {
   "codemirror_mode": {
    "name": "ipython",
    "version": 3
   },
   "file_extension": ".py",
   "mimetype": "text/x-python",
   "name": "python",
   "nbconvert_exporter": "python",
   "pygments_lexer": "ipython3",
   "version": "3.6.13"
  }
 },
 "nbformat": 4,
 "nbformat_minor": 5
}
