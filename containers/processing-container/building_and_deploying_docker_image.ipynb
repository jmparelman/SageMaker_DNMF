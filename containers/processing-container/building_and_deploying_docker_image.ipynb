{
 "cells": [
  {
   "cell_type": "code",
   "execution_count": null,
   "id": "08a8488a",
   "metadata": {},
   "outputs": [],
   "source": []
  },
  {
   "cell_type": "code",
   "execution_count": 2,
   "id": "d20808d6",
   "metadata": {},
   "outputs": [],
   "source": [
    "import boto3\n",
    "\n",
    "region = boto3.session.Session().region_name \n",
    "\n",
    "account_id = boto3.client('sts').get_caller_identity().get('Account')\n",
    "ecr_repository = 'sagemaker-processing-container'\n",
    "tag = ':latest'\n",
    "processing_repository_uri = '{}.dkr.ecr.{}.amazonaws.com/{}'.format(account_id, region, ecr_repository + tag)\n"
   ]
  },
  {
   "cell_type": "code",
   "execution_count": 3,
   "id": "523d006a",
   "metadata": {},
   "outputs": [
    {
     "data": {
      "text/plain": [
       "'arn:aws:iam::064258348567:role/service-role/AmazonSageMaker-ExecutionRole-20200131T104492'"
      ]
     },
     "execution_count": 3,
     "metadata": {},
     "output_type": "execute_result"
    }
   ],
   "source": [
    "from sagemaker import get_execution_role\n",
    "role = get_execution_role()\n",
    "role"
   ]
  },
  {
   "cell_type": "code",
   "execution_count": 4,
   "id": "3095c9c5",
   "metadata": {},
   "outputs": [
    {
     "data": {
      "text/plain": [
       "'064258348567.dkr.ecr.us-east-1.amazonaws.com/sagemaker-processing-container:latest'"
      ]
     },
     "execution_count": 4,
     "metadata": {},
     "output_type": "execute_result"
    }
   ],
   "source": [
    "processing_repository_uri"
   ]
  },
  {
   "cell_type": "code",
   "execution_count": 10,
   "id": "a1d14a6d",
   "metadata": {},
   "outputs": [
    {
     "name": "stdout",
     "output_type": "stream",
     "text": [
      "Sending build context to Docker daemon  201.7kB\n",
      "Step 1/8 : FROM python:3.7-slim-buster\n",
      " ---> b142ab477505\n",
      "Step 2/8 : MAINTAINER ASC \"mbod@asc.upenn.edu jmparelman@gmail.com\"\n",
      " ---> Using cache\n",
      " ---> 9af566ff1024\n",
      "Step 3/8 : RUN apt-get -y update && apt-get install -y --no-install-recommends         build-essential         python-dev         python3-pip     && pip3 install -U pip\n",
      " ---> Using cache\n",
      " ---> 988639001443\n",
      "Step 4/8 : ENV SPACY_VERSION 3.0.5\n",
      " ---> Using cache\n",
      " ---> 84ce7cf699fe\n",
      "Step 5/8 : RUN     pip3 install -U pandas          tqdm          gensim          sklearn     && pip3 install -U spacy==${SPACY_VERSION}     && python3 -m spacy download en_core_web_sm\n",
      " ---> Using cache\n",
      " ---> 73243f0fe6bb\n",
      "Step 6/8 : RUN mkdir -p /opt/ml/processing/input/speeches /opt/ml/processing/input/descr /opt/ml/processing/output\n",
      " ---> Running in 6cef0c15479a\n",
      "Removing intermediate container 6cef0c15479a\n",
      " ---> 0f1c03c2f52b\n",
      "Step 7/8 : ENV PYTHONUNBUFFERED=TRUE\n",
      " ---> Running in 961632d7cec2\n",
      "Removing intermediate container 961632d7cec2\n",
      " ---> 4c049f598bb1\n",
      "Step 8/8 : ENTRYPOINT [\"python3\"]\n",
      " ---> Running in ede9d8e4dfce\n",
      "Removing intermediate container ede9d8e4dfce\n",
      " ---> 49b83cf9d4df\n",
      "Successfully built 49b83cf9d4df\n",
      "Successfully tagged sagemaker-processing-container:latest\n"
     ]
    }
   ],
   "source": [
    "!docker build -t $ecr_repository ."
   ]
  },
  {
   "cell_type": "code",
   "execution_count": null,
   "id": "aa9c77ab",
   "metadata": {},
   "outputs": [],
   "source": []
  },
  {
   "cell_type": "code",
   "execution_count": 17,
   "id": "74ade4b5",
   "metadata": {},
   "outputs": [
    {
     "data": {
      "text/plain": [
       "'064258348567'"
      ]
     },
     "execution_count": 17,
     "metadata": {},
     "output_type": "execute_result"
    }
   ],
   "source": [
    "account_id"
   ]
  },
  {
   "cell_type": "code",
   "execution_count": 18,
   "id": "bdc5ad82",
   "metadata": {},
   "outputs": [
    {
     "name": "stdout",
     "output_type": "stream",
     "text": [
      "WARNING! Your password will be stored unencrypted in /home/ec2-user/.docker/config.json.\r\n",
      "Configure a credential helper to remove this warning. See\r\n",
      "https://docs.docker.com/engine/reference/commandline/login/#credentials-store\r\n",
      "\r\n",
      "Login Succeeded\r\n"
     ]
    }
   ],
   "source": [
    "!aws ecr get-login-password --region us-east-1 | docker login --username AWS --password-stdin 064258348567.dkr.ecr.us-east-1.amazonaws.com\n"
   ]
  },
  {
   "cell_type": "code",
   "execution_count": 19,
   "id": "5ce129f0",
   "metadata": {},
   "outputs": [
    {
     "name": "stdout",
     "output_type": "stream",
     "text": [
      "\r\n",
      "An error occurred (RepositoryAlreadyExistsException) when calling the CreateRepository operation: The repository with name 'sagemaker-processing-container' already exists in the registry with id '064258348567'\r\n"
     ]
    }
   ],
   "source": [
    "!aws ecr create-repository --repository-name $ecr_repository\n"
   ]
  },
  {
   "cell_type": "code",
   "execution_count": 11,
   "id": "2d8b8f22",
   "metadata": {},
   "outputs": [
    {
     "name": "stdout",
     "output_type": "stream",
     "text": [
      "The push refers to repository [064258348567.dkr.ecr.us-east-1.amazonaws.com/sagemaker-processing-container]\n",
      "\n",
      "\u001b[1B3bf68033: Preparing \n",
      "\u001b[1B463c6a5e: Preparing \n",
      "\u001b[1B018eda14: Preparing \n",
      "\u001b[1B6a810ca1: Preparing \n",
      "\u001b[1B6bb9ffea: Preparing \n",
      "\u001b[1B663e622b: Preparing \n",
      "\u001b[1B845af46d: Preparing \n",
      "\u001b[8B3bf68033: Pushed    5.12kBists \u001b[5A\u001b[2K\u001b[1A\u001b[2K\u001b[8A\u001b[2Klatest: digest: sha256:e8b8279167e5045ff35817f45c855897bc0ad91834f08cd084e6d1bbb65bf5a2 size: 2004\n"
     ]
    }
   ],
   "source": [
    "!docker tag {ecr_repository + tag} $processing_repository_uri\n",
    "!docker push $processing_repository_uri"
   ]
  },
  {
   "cell_type": "code",
   "execution_count": 23,
   "id": "6016797d",
   "metadata": {},
   "outputs": [
    {
     "name": "stdout",
     "output_type": "stream",
     "text": [
      "064258348567.dkr.ecr.us-east-1.amazonaws.com/sagemaker-processing-container:latest\r\n"
     ]
    }
   ],
   "source": [
    "!echo $processing_repository_uri"
   ]
  },
  {
   "cell_type": "markdown",
   "id": "885e8a80",
   "metadata": {},
   "source": [
    "# can we now run the image?"
   ]
  },
  {
   "cell_type": "code",
   "execution_count": 33,
   "id": "adfb4309",
   "metadata": {},
   "outputs": [],
   "source": [
    "role_arn = 'arn:aws:sts::064258348567:assumed-role/AmazonSageMaker-ExecutionRole-20200131T104492/SageMaker'"
   ]
  },
  {
   "cell_type": "code",
   "execution_count": 51,
   "id": "8c4a7493",
   "metadata": {},
   "outputs": [],
   "source": [
    "from sagemaker.processing import ScriptProcessor, ProcessingInput, ProcessingOutput\n",
    "\n",
    "script_processor = ScriptProcessor(command=['python3'],\n",
    "                image_uri=processing_repository_uri,\n",
    "                role=role,\n",
    "                instance_count=1,\n",
    "                instance_type='ml.m5.2xlarge')\n"
   ]
  },
  {
   "cell_type": "code",
   "execution_count": 52,
   "id": "3ec0a57e",
   "metadata": {
    "scrolled": false
   },
   "outputs": [
    {
     "name": "stdout",
     "output_type": "stream",
     "text": [
      "\n",
      "Job Name:  sagemaker-processing-container-2021-04-26-20-12-13-551\n",
      "Inputs:  [{'InputName': 'input-1', 'AppManaged': False, 'S3Input': {'S3Uri': 's3://ascsagemaker/JMP_congressional_nmf/raw_data', 'LocalPath': '/opt/ml/processing/input', 'S3DataType': 'S3Prefix', 'S3InputMode': 'File', 'S3DataDistributionType': 'FullyReplicated', 'S3CompressionType': 'None'}}, {'InputName': 'code', 'AppManaged': False, 'S3Input': {'S3Uri': 's3://sagemaker-us-east-1-064258348567/sagemaker-processing-container-2021-04-26-20-12-13-551/input/code/congress_pre_process.py', 'LocalPath': '/opt/ml/processing/input/code', 'S3DataType': 'S3Prefix', 'S3InputMode': 'File', 'S3DataDistributionType': 'FullyReplicated', 'S3CompressionType': 'None'}}]\n",
      "Outputs:  [{'OutputName': 'output-1', 'AppManaged': False, 'S3Output': {'S3Uri': 's3://ascsagemaker/JMP_congressional_nmf/dtms', 'LocalPath': '/opt/ml/processing/output', 'S3UploadMode': 'EndOfJob'}}]\n",
      "..........................\u001b[34m/usr/local/lib/python3.7/site-packages/gensim/similarities/__init__.py:15: UserWarning: The gensim.similarities.levenshtein submodule is disabled, because the optional Levenshtein package <https://pypi.org/project/python-Levenshtein/> is unavailable. Install Levenhstein (e.g. `pip install python-Levenshtein`) to suppress this warning.\n",
      "  warnings.warn(msg)\u001b[0m\n",
      "\u001b[34mparsed speeches\u001b[0m\n",
      "\u001b[34m#015omitting phrases:   0%|          | 0/80243 [00:00<?, ?it/s]#015omitting phrases: 100%|██████████| 80243/80243 [00:00<00:00, 1810230.77it/s]\u001b[0m\n",
      "\u001b[34m#015  0%|          | 0/80243 [00:00<?, ?it/s]#015  1%|          | 599/80243 [00:00<00:13, 5989.06it/s]#015  2%|▏         | 1274/80243 [00:00<00:12, 6429.47it/s]#015  2%|▏         | 1917/80243 [00:00<00:14, 5389.37it/s]#015  3%|▎         | 2473/80243 [00:00<00:14, 5202.89it/s]#015  4%|▍         | 3074/80243 [00:00<00:14, 5460.97it/s]#015  5%|▍         | 3734/80243 [00:00<00:13, 5821.61it/s]#015  5%|▌         | 4325/80243 [00:00<00:14, 5216.12it/s]#015  6%|▌         | 4862/80243 [00:00<00:15, 4786.60it/s]#015  7%|▋         | 5355/80243 [00:01<00:17, 4179.71it/s]#015  7%|▋         | 5792/80243 [00:01<00:18, 4010.52it/s]#015  8%|▊         | 6285/80243 [00:01<00:17, 4229.40it/s]#015  8%|▊         | 6740/80243 [00:01<00:17, 4312.35it/s]#015  9%|▉         | 7182/80243 [00:01<00:17, 4117.16it/s]#015 10%|▉         | 7627/80243 [00:01<00:17, 4205.45it/s]#015 10%|█         | 8054/80243 [00:01<00:17, 4134.56it/s]#015 11%|█         | 8597/80243 [00:01<00:15, 4497.13it/s]#015 11%|█▏        | 9053/80243 [00:01<00:16, 4448.44it/s]#015 12%|█▏        | 9538/80243 [00:02<00:15, 4563.64it/s]#015 13%|█▎        | 10073/80243 [00:02<00:14, 4789.10it/s]#015 13%|█▎        | 10757/80243 [00:02<00:12, 5384.80it/s]#015 14%|█▍        | 11299/80243 [00:02<00:13, 4974.61it/s]#015 15%|█▍        | 11805/80243 [00:02<00:13, 4928.37it/s]#015 15%|█▌        | 12304/80243 [00:02<00:13, 4908.61it/s]#015 16%|█▌        | 12806/80243 [00:02<00:13, 4939.89it/s]#015 17%|█▋        | 13303/80243 [00:02<00:14, 4767.17it/s]#015 17%|█▋        | 13783/80243 [00:02<00:16, 4088.85it/s]#015 18%|█▊        | 14210/80243 [00:03<00:19, 3326.34it/s]#015 18%|█▊        | 14575/80243 [00:03<00:21, 3065.57it/s]#015 19%|█▊        | 14905/80243 [00:03<00:23, 2840.25it/s]#015 19%|█▉        | 15205/80243 [00:03<00:23, 2757.05it/s]#015 19%|█▉        | 15491/80243 [00:03<00:23, 2699.17it/s]#015 20%|█▉        | 15795/80243 [00:03<00:23, 2783.76it/s]#015 20%|██        | 16080/80243 [00:03<00:24, 2643.78it/s]#015 20%|██        | 16349/80243 [00:03<00:24, 2637.78it/s]#015 21%|██        | 16739/80243 [00:04<00:21, 2978.18it/s]#015 21%|██▏       | 17153/80243 [00:04<00:19, 3299.26it/s]#015 22%|██▏       | 17490/80243 [00:04<00:19, 3222.05it/s]#015 23%|██▎       | 18303/80243 [00:04<00:13, 4609.57it/s]#015 23%|██▎       | 18789/80243 [00:04<00:13, 4680.68it/s]#015 24%|██▍       | 19266/80243 [00:04<00:13, 4459.10it/s]#015 25%|██▍       | 19720/80243 [00:04<00:14, 4061.49it/s]#015 25%|██▌       | 20236/80243 [00:04<00:13, 4354.47it/s]#015 26%|██▌       | 20686/80243 [00:04<00:13, 4382.42it/s]#015 26%|██▋       | 21154/80243 [00:05<00:13, 4464.78it/s]#015 27%|██▋       | 21727/80243 [00:05<00:12, 4827.39it/s]#015 28%|██▊       | 22256/80243 [00:05<00:11, 4960.33it/s]#015 28%|██▊       | 22793/80243 [00:05<00:11, 5079.62it/s]#015 29%|██▉       | 23305/80243 [00:05<00:11, 5039.71it/s]#015 30%|██▉       | 23812/80243 [00:05<00:11, 4746.40it/s]#015 30%|███       | 24329/80243 [00:05<00:11, 4864.74it/s]#015 31%|███       | 24865/80243 [00:05<00:11, 5002.33it/s]#015 32%|███▏      | 25369/80243 [00:05<00:11, 4899.98it/s]#015 32%|███▏      | 25862/80243 [00:06<00:12, 4470.51it/s]#015 33%|███▎      | 26318/80243 [00:06<00:12, 4229.39it/s]#015 33%|███▎      | 26832/80243 [00:06<00:11, 4471.12it/s]#015 34%|███▍      | 27312/80243 [00:06<00:11, 4561.63it/s]#015 35%|███▍      | 27775/80243 [00:06<00:11, 4519.50it/s]#015 35%|███▌      | 28232/80243 [00:06<00:12, 4248.50it/s]#015 36%|███▌      | 28683/80243 [00:06<00:11, 4320.46it/s]#015 36%|███▋      | 29153/80243 [00:06<00:11, 4424.16it/s]#015 37%|███▋      | 29600/80243 [00:06<00:11, 4354.26it/s]#015 37%|███▋      | 30039/80243 [00:06<00:11, 4341.87it/s]#015 38%|███▊      | 30549/80243 [00:07<00:10, 4558.27it/s]#015 39%|███▉      | 31128/80243 [00:07<00:09, 4918.65it/s]#015 39%|███▉      | 31623/80243 [00:07<00:10, 4782.37it/s]#015 40%|████      | 32104/80243 [00:07<00:10, 4587.39it/s]#015 41%|████      | 32566/80243 [00:07<00:10, 4490.46it/s]#015 41%|████      | 33018/80243 [00:07<00:10, 4470.93it/s]#015 42%|████▏     | 33505/80243 [00:07<00:10, 4584.22it/s]#015 42%|████▏     | 34086/80243 [00:07<00:09, 4935.99it/s]#015 43%|████▎     | 34594/80243 [00:07<00:09, 4977.59it/s]#015 44%|████▎     | 35094/80243 [00:08<00:09, 4783.77it/s]#015 44%|████▍     | 35575/80243 [00:08<00:09, 4658.04it/s]#015 45%|████▍     | 36043/80243 [00:08<00:09, 4597.00it/s]#015 45%|████▌     | 36505/80243 [00:08<00:09, 4475.10it/s]#015 46%|████▌     | 37022/80243 [00:08<00:09, 4672.74it/s]#015 47%|████▋     | 37492/80243 [00:08<00:09, 4559.21it/s]#015 47%|████▋     | 38028/80243 [00:08<00:08, 4788.73it/s]#015 48%|████▊     | 38516/80243 [00:08<00:08, 4813.93it/s]#015 49%|████▊     | 38999/80243 [00:08<00:10, 4083.89it/s]#015 49%|████▉     | 39427/80243 [00:09<00:12, 3313.25it/s]#015 50%|████▉     | 39793/80243 [00:09<00:13, 2988.58it/s]#015 50%|████▉     | 40119/80243 [00:09<00:14, 2843.45it/s]#015 52%|█████▏    | 41673/80243 [00:09<00:06, 5771.17it/s]#015 53%|█████▎    | 42351/80243 [00:09<00:09, 4046.54it/s]#015 53%|█████▎    | 42894/80243 [00:10<00:10, 3435.20it/s]#015 54%|█████▍    | 43344/80243 [00:10<00:12, 3070.94it/s]#015 54%|█████▍    | 43727/80243 [00:10<00:13, 2773.74it/s]#015 55%|█████▍    | 44056/80243 [00:10<00:14, 2532.88it/s]#015 55%|█████▌    | 44344/80243 [00:10<00:14, 2451.04it/s]#015 56%|█████▌    | 44611/80243 [00:10<00:14, 2442.76it/s]#015 56%|█████▌    | 44870/80243 [00:11<00:15, 2256.40it/s]#015 56%|█████▌    | 45106/80243 [00:11<00:15, 2240.22it/s]#015 57%|█████▋    | 45364/80243 [00:11<00:15, 2313.95it/s]#015 57%|█████▋    | 45634/80243 [00:11<00:14, 2411.26it/s]#015 57%|█████▋    | 45882/80243 [00:11<00:14, 2386.71it/s]#015 57%|█████▋    | 46125/80243 [00:11<00:14, 2375.81it/s]#015 58%|█████▊    | 46394/80243 [00:11<00:13, 2461.69it/s]#015 58%|█████▊    | 46716/80243 [00:11<00:12, 2674.36it/s]#015 59%|█████▊    | 46987/80243 [00:11<00:13, 2425.42it/s]#015 59%|█████▉    | 47315/80243 [00:11<00:12, 2651.30it/s]#015 59%|█████▉    | 47592/80243 [00:12<00:12, 2684.18it/s]#015 60%|█████▉    | 47866/80243 [00:12<00:12, 2572.83it/s]#015 60%|██████    | 48264/80243 [00:12<00:10, 2960.42it/s]#015 61%|██████    | 48574/80243 [00:12<00:10, 2983.99it/s]#015 61%|██████    | 48877/80243 [00:12<00:11, 2796.33it/s]#015 61%|██████▏   | 49162/80243 [00:12<00:11, 2678.93it/s]#015 62%|██████▏   | 49434/80243 [00:12<00:11, 2629.29it/s]#015 62%|██████▏   | 49700/80243 [00:12<00:12, 2457.39it/s]#015 62%|██████▏   | 49991/80243 [00:12<00:11, 2573.28it/s]#015 63%|██████▎   | 50337/80243 [00:13<00:10, 2818.42it/s]#015 63%|██████▎   | 50624/80243 [00:13<00:10, 2778.31it/s]#015 63%|██████▎   | 50905/80243 [00:13<00:11, 2582.28it/s]#015 64%|██████▍   | 51168/80243 [00:13<00:11, 2586.77it/s]#015 64%|██████▍   | 51430/80243 [00:13<00:11, 2443.73it/s]#015 64%|██████▍   | 51716/80243 [00:13<00:11, 2552.97it/s]#015 65%|██████▍   | 51975/80243 [00:13<00:11, 2554.61it/s]#015 65%|██████▌   | 52233/80243 [00:13<00:11, 2414.02it/s]#015 66%|██████▌   | 52578/80243 [00:13<00:10, 2694.95it/s]#015 66%|██████▌   | 52869/80243 [00:14<00:09, 2754.97it/s]#015 66%|██████▌   | 53148/80243 [00:14<00:11, 2404.27it/s]#015 67%|██████▋   | 53399/80243 [00:14<00:11, 2375.93it/s]#015 67%|██████▋   | 53669/80243 [00:14<00:10, 2454.23it/s]#015 67%|██████▋   | 53931/80243 [00:14<00:10, 2495.65it/s]#015 68%|██████▊   | 54185/80243 [00:14<00:10, 2468.13it/s]#015 68%|██████▊   | 54492/80243 [00:14<00:09, 2638.36it/s]#015 68%|██████▊   | 54871/80243 [00:14<00:08, 2970.64it/s]#015 69%|██████▉   | 55172/80243 [00:14<00:08, 2908.11it/s]#015 69%|██████▉   | 55466/80243 [00:15<00:08, 2765.17it/s]#015 69%|██████▉   | 55746/80243 [00:15<00:09, 2682.03it/s]#015 70%|██████▉   | 56017/80243 [00:15<00:09, 2641.39it/s]#015 70%|███████   | 56283/80243 [00:15<00:09, 2628.59it/s]#015 71%|███████   | 56662/80243 [00:15<00:07, 2957.19it/s]#015 71%|███████   | 57021/80243 [00:15<00:07, 3139.11it/s]#015 72%|███████▏  | 57411/80243 [00:15<00:06, 3361.44it/s]#015 72%|███████▏  | 57750/80243 [00:15<00:07, 3124.00it/s]#015 73%|███████▎  | 58378/80243 [00:15<00:05, 4008.32it/s]#015 73%|███████▎  | 58789/80243 [00:15<00:05, 3983.78it/s]#015 74%|███████▍  | 59225/80243 [00:16<00:05, 4090.68it/s]#015 74%|███████▍  | 59667/80243 [00:16<00:04, 4186.34it/s]#015 75%|███████▍  | 60105/80243 [00:16<00:04, 4241.53it/s]#015 75%|███████▌  | 60532/80243 [00:16<00:04, 4220.19it/s]#015 76%|███████▌  | 60956/80243 [00:16<00:04, 4211.11it/s]#015 77%|███████▋  | 61418/80243 [00:16<00:04, 3962.07it/s]#015 77%|███████▋  | 61874/80243 [00:16<00:04, 4118.67it/s]#015 78%|███████▊  | 62291/80243 [00:16<00:04, 3951.76it/s]#015 78%|███████▊  | 62691/80243 [00:16<00:04, 3747.61it/s]#015 79%|███████▊  | 63070/80243 [00:17<00:04, 3685.51it/s]#015 79%|███████▉  | 63442/80243 [00:17<00:04, 3639.99it/s]#015 80%|███████▉  | 63824/80243 [00:17<00:04, 3688.92it/s]#015 80%|████████  | 64257/80243 [00:17<00:04, 3869.70it/s]#015 81%|████████  | 64797/80243 [00:17<00:03, 4313.28it/s]#015 81%|████████▏ | 65232/80243 [00:17<00:03, 4322.66it/s]#015 82%|████████▏ | 65667/80243 [00:17<00:03, 4251.93it/s]#015 82%|████████▏ | 66094/80243 [00:17<00:03, 4226.10it/s]#015 83%|████████▎ | 66518/80243 [00:17<00:03, 4144.39it/s]#015 83%|████████▎ | 66981/80243 [00:17<00:03, 4279.91it/s]#015 84%|████████▍ | 67411/80243 [00:18<00:02, 4281.22it/s]#015 85%|████████▍ | 67840/80243 [00:18<00:02, 4239.60it/s]#015 85%|████████▌ | 68392/80243 [00:18<00:02, 4612.94it/s]#015 86%|████████▌ | 68855/80243 [00:18<00:02, 4256.66it/s]#015 86%|████████▋ | 69287/80243 [00:18<00:02, 4188.93it/s]#015 87%|████████▋ | 69743/80243 [00:18<00:02, 4292.76it/s]#015 87%|████████▋ | 70176/80243 [00:18<00:02, 4229.25it/s]#015 88%|████████▊ | 70666/80243 [00:18<00:02, 4419.62it/s]#015 89%|████████▊ | 71111/80243 [00:18<00:02, 4227.99it/s]#015 89%|████████▉ | 71577/80243 [00:19<00:01, 4350.61it/s]#015 90%|████████▉ | 72015/80243 [00:19<00:01, 4206.33it/s]#015 90%|█████████ | 72499/80243 [00:19<00:01, 4357.57it/s]#015 91%|█████████ | 72938/80243 [00:19<00:01, 4282.69it/s]#015 92%|█████████▏| 73450/80243 [00:19<00:01, 4522.56it/s]#015 92%|█████████▏| 74186/80243 [00:19<00:01, 5343.36it/s]#015 93%|█████████▎| 74725/80243 [00:19<00:01, 4518.11it/s]#015 94%|█████████▎| 75201/80243 [00:19<00:01, 4229.93it/s]#015 94%|█████████▍| 75686/80243 [00:19<00:01, 4388.58it/s]#015 95%|█████████▌| 76329/80243 [00:20<00:00, 4933.23it/s]#015 96%|█████████▌| 76840/80243 [00:20<00:00, 4847.99it/s]#015 96%|█████████▋| 77418/80243 [00:20<00:00, 5099.04it/s]#015 97%|█████████▋| 77978/80243 [00:20<00:00, 5240.56it/s]#015 98%|█████████▊| 78511/80243 [00:20<00:00, 5104.36it/s]#015 98%|█████████▊| 79028/80243 [00:20<00:00, 4773.14it/s]#015 99%|█████████▉| 79513/80243 [00:20<00:00, 4677.42it/s]#015100%|█████████▉| 79986/80243 [00:20<00:00, 4581.52it/s]#015100%|██████████| 80243/80243 [00:20<00:00, 3840.07it/s]\u001b[0m\n"
     ]
    },
    {
     "name": "stdout",
     "output_type": "stream",
     "text": [
      "\u001b[34mpre-processed speeches\u001b[0m\n",
      "\n"
     ]
    }
   ],
   "source": [
    "script_processor.run(code='scripts/congress_pre_process.py',\n",
    "                     inputs=[ProcessingInput(\n",
    "                        source='s3://ascsagemaker/JMP_congressional_nmf/raw_data',\n",
    "                        destination='/opt/ml/processing/input')],\n",
    "                      outputs=[ProcessingOutput(\n",
    "                        source='/opt/ml/processing/output',\n",
    "                        destination='s3://ascsagemaker/JMP_congressional_nmf/dtms')],\n",
    "                      arguments=['110']\n",
    "                    )"
   ]
  },
  {
   "cell_type": "code",
   "execution_count": null,
   "id": "22cfed01",
   "metadata": {},
   "outputs": [],
   "source": []
  }
 ],
 "metadata": {
  "kernelspec": {
   "display_name": "conda_python3",
   "language": "python",
   "name": "conda_python3"
  },
  "language_info": {
   "codemirror_mode": {
    "name": "ipython",
    "version": 3
   },
   "file_extension": ".py",
   "mimetype": "text/x-python",
   "name": "python",
   "nbconvert_exporter": "python",
   "pygments_lexer": "ipython3",
   "version": "3.6.13"
  }
 },
 "nbformat": 4,
 "nbformat_minor": 5
}
